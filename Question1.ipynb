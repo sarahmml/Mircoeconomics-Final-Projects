{
 "cells": [
  {
   "cell_type": "markdown",
   "metadata": {
    "collapsed": false
   },
   "source": [
    "# Question 1"
   ]
  },
  {
   "cell_type": "markdown",
   "metadata": {
    "collapsed": false
   },
   "source": [
    "Note: I will use $\\gamma$ and $\\lambda$ interchangeably in this notebook. "
   ]
  },
  {
   "cell_type": "markdown",
   "metadata": {
    "collapsed": false
   },
   "source": [
    "# \"Calculate numerically how the equilibrium in the workers’ application game changes with the wage offers of the two firms\""
   ]
  },
  {
   "cell_type": "code",
   "execution_count": 2,
   "metadata": {
    "collapsed": false
   },
   "outputs": [
    {
     "data": {
      "text/plain": [
       "(Y, w_1, w_2, pi_H, pi_L, gamma)"
      ]
     },
     "execution_count": 2,
     "metadata": {
     },
     "output_type": "execute_result"
    }
   ],
   "source": [
    "var('Y','w_1','w_2','pi_H','pi_L','gamma')"
   ]
  },
  {
   "cell_type": "markdown",
   "metadata": {
    "collapsed": false
   },
   "source": [
    "## Expressions for $pi_H$ and $pi_L$"
   ]
  },
  {
   "cell_type": "markdown",
   "metadata": {
    "collapsed": false
   },
   "source": [
    "First we want to find $\\pi_H$ and $\\pi_L$. As we went over in class, we know that if $\\lambda\\frac{w_1}{2}+(1-\\lambda)w_1 > w_2$, then $\\pi_H = 1$, and that if $\\lambda\\frac{w_2}{2}+(1-\\lambda)w_2 > w_1$ then $\\pi_H = 0$. So the only thing we need to find is the case where niether of those inequalities hold, and the high type worker will play a mixed strategy. "
   ]
  },
  {
   "cell_type": "code",
   "execution_count": 44,
   "metadata": {
    "collapsed": false
   },
   "outputs": [
    {
     "data": {
      "text/html": [
       "<html><script type=\"math/tex; mode=display\">\\newcommand{\\Bold}[1]{\\mathbf{#1}}\\left[\\pi_{H} = \\frac{{\\left(\\gamma - 2\\right)} w_{2} + 2 \\, w_{1}}{\\gamma w_{1} + \\gamma w_{2}}\\right]</script></html>"
      ],
      "text/latex": [
       "\\begin{math}\n",
       "\\newcommand{\\Bold}[1]{\\mathbf{#1}}\\left[\\pi_{H} = \\frac{{\\left(\\gamma - 2\\right)} w_{2} + 2 \\, w_{1}}{\\gamma w_{1} + \\gamma w_{2}}\\right]\n",
       "\\end{math}"
      ],
      "text/plain": [
       "[pi_H == ((gamma - 2)*w_2 + 2*w_1)/(gamma*w_1 + gamma*w_2)]"
      ]
     },
     "execution_count": 44,
     "metadata": {
     },
     "output_type": "execute_result"
    }
   ],
   "source": [
    "f1 = gamma*(pi_H*(w_1/2)+(1-pi_H)*w_1)+(1-gamma)*w_1\n",
    "f2 = gamma*(pi_H*w_2+(1-pi_H)*(w_2/2))+(1-gamma)*w_2\n",
    "piH = solve((f1==f2),(pi_H))\n",
    "show(piH)"
   ]
  },
  {
   "cell_type": "markdown",
   "metadata": {
    "collapsed": false
   },
   "source": [
    "$$\n",
    "\\pi_H(w_1, w_2) = \\left\\{\\begin{array}{lr}\n",
    "        1 & \\text{ if } \\lambda\\frac{w_1}{2}+(1-\\lambda)w_1 > w_2\\\\\n",
    "        \\\n",
    "        0 & \\text{if } w_1 < \\lambda\\frac{w_2}{2}+(1-\\lambda)w_2\n",
    "        \\\\\n",
    "        \\frac{{\\left(\\gamma - 2\\right)} w_{2} + 2 \\, w_{1}}{\\gamma w_{1} +    \\gamma w_{2}} & otherwise\\\n",
    "       \\\n",
    "        \\end{array}\\right. \n",
    "$$\n"
   ]
  },
  {
   "cell_type": "markdown",
   "metadata": {
    "collapsed": false
   },
   "source": [
    "For $\\pi_L$, I am just going to use the strategy rule given in the 'directed search incomplete information' notebook. "
   ]
  },
  {
   "cell_type": "markdown",
   "metadata": {
    "collapsed": false
   },
   "source": [
    "\n",
    "$$\n",
    "\\pi_L(w_1, w_2) = \n",
    "\\left\\{\\begin{array}{lr}\n",
    "  \\frac{(1-\\lambda)(2w_1-w_2)}{(w_1+w_2)-\\lambda(w_1-w_2)} & \\text{ if } \\lambda\\frac{w_1}{2}+(1-\\lambda)w_1\\ge w_2 \\\\\n",
    "  \\frac{(3-\\lambda)w_2-2w_1}{(1-\\lambda)(w_1+w_2)} & \\text{if } w_1>w_2; \\lambda\\frac{w_1}{2}+(1-\\lambda)w_1\\le w_2 \\\\\n",
    "  \\frac{(3-\\lambda)w_1-2w_2}{(1-\\lambda)(w_2+w_1)} & \\text{if } w_2>w_1; \\lambda\\frac{w_2}{2}+(1-\\lambda)w_2\\le w_1 \\\\ \n",
    "  \\frac{(1-\\lambda)(2w_2-w_1)}{(w_2+w_1)-\\lambda(w_2-w_1)} & \\text{ otherwise. } \n",
    "\\end{array}\\right.\n",
    "$$"
   ]
  },
  {
   "cell_type": "code",
   "execution_count": 4,
   "metadata": {
    "collapsed": false
   },
   "outputs": [
    {
     "data": {
      "text/html": [
       "<html><script type=\"math/tex; mode=display\">\\newcommand{\\Bold}[1]{\\mathbf{#1}}\\frac{{\\left(\\gamma - 2\\right)} w_{2} + 2 \\, w_{1}}{\\gamma w_{1} + \\gamma w_{2}}</script></html>"
      ],
      "text/latex": [
       "\\begin{math}\n",
       "\\newcommand{\\Bold}[1]{\\mathbf{#1}}\\frac{{\\left(\\gamma - 2\\right)} w_{2} + 2 \\, w_{1}}{\\gamma w_{1} + \\gamma w_{2}}\n",
       "\\end{math}"
      ],
      "text/plain": [
       "((gamma - 2)*w_2 + 2*w_1)/(gamma*w_1 + gamma*w_2)"
      ]
     },
     "execution_count": 4,
     "metadata": {
     },
     "output_type": "execute_result"
    }
   ],
   "source": [
    "piHRHS = piH[0].rhs()\n",
    "show(piHRHS)"
   ]
  },
  {
   "cell_type": "code",
   "execution_count": 5,
   "metadata": {
    "collapsed": false
   },
   "outputs": [
    {
     "data": {
      "text/html": [
       "<html><script type=\"math/tex; mode=display\">\\newcommand{\\Bold}[1]{\\mathbf{#1}}\\frac{{\\left(\\gamma - 3\\right)} w_{2} + 2 \\, w_{1}}{{\\left(\\gamma - 1\\right)} {\\left(w_{1} + w_{2}\\right)}}</script></html>"
      ],
      "text/latex": [
       "\\begin{math}\n",
       "\\newcommand{\\Bold}[1]{\\mathbf{#1}}\\frac{{\\left(\\gamma - 3\\right)} w_{2} + 2 \\, w_{1}}{{\\left(\\gamma - 1\\right)} {\\left(w_{1} + w_{2}\\right)}}\n",
       "\\end{math}"
      ],
      "text/plain": [
       "((gamma - 3)*w_2 + 2*w_1)/((gamma - 1)*(w_1 + w_2))"
      ]
     },
     "execution_count": 5,
     "metadata": {
     },
     "output_type": "execute_result"
    }
   ],
   "source": [
    "piL = ((3-gamma)*w_2-2*w_1)/((1-gamma)*(w_1+w_2))\n",
    "show(piL)"
   ]
  },
  {
   "cell_type": "markdown",
   "metadata": {
    "collapsed": false
   },
   "source": [
    "## Setting $\\gamma$ to 1 to see how $\\pi_H$ changes in response to changes in $w_1$ and $w_2$ "
   ]
  },
  {
   "cell_type": "code",
   "execution_count": 6,
   "metadata": {
    "collapsed": false
   },
   "outputs": [
    {
     "data": {
      "text/html": [
       "<html><script type=\"math/tex; mode=display\">\\newcommand{\\Bold}[1]{\\mathbf{#1}}\\frac{2 \\, w_{1} - w_{2}}{w_{1} + w_{2}}</script></html>"
      ],
      "text/latex": [
       "\\begin{math}\n",
       "\\newcommand{\\Bold}[1]{\\mathbf{#1}}\\frac{2 \\, w_{1} - w_{2}}{w_{1} + w_{2}}\n",
       "\\end{math}"
      ],
      "text/plain": [
       "(2*w_1 - w_2)/(w_1 + w_2)"
      ]
     },
     "execution_count": 6,
     "metadata": {
     },
     "output_type": "execute_result"
    }
   ],
   "source": [
    "gamma1 = piHRHS.subs(gamma=1)\n",
    "show(piHRHS.subs(gamma=1))"
   ]
  },
  {
   "cell_type": "markdown",
   "metadata": {
    "collapsed": false
   },
   "source": [
    "Let's see how $\\pi_H$ changes. First let's do $w_1=w_2*2$"
   ]
  },
  {
   "cell_type": "code",
   "execution_count": 7,
   "metadata": {
    "collapsed": false
   },
   "outputs": [
    {
     "data": {
      "text/plain": [
       "1"
      ]
     },
     "execution_count": 7,
     "metadata": {
     },
     "output_type": "execute_result"
    }
   ],
   "source": [
    "gamma1.subs(w_1=w_2*2)"
   ]
  },
  {
   "cell_type": "markdown",
   "metadata": {
    "collapsed": false
   },
   "source": [
    "So we get $\\pi_H = 1$"
   ]
  },
  {
   "cell_type": "markdown",
   "metadata": {
    "collapsed": false
   },
   "source": [
    "Now let's do, $w_2=w_1*2$"
   ]
  },
  {
   "cell_type": "code",
   "execution_count": 8,
   "metadata": {
    "collapsed": false
   },
   "outputs": [
    {
     "data": {
      "text/plain": [
       "0"
      ]
     },
     "execution_count": 8,
     "metadata": {
     },
     "output_type": "execute_result"
    }
   ],
   "source": [
    "gamma1.subs(w_2=w_1*2)"
   ]
  },
  {
   "cell_type": "markdown",
   "metadata": {
    "collapsed": false
   },
   "source": [
    "So here we get $\\pi_H = 0$"
   ]
  },
  {
   "cell_type": "markdown",
   "metadata": {
    "collapsed": false
   },
   "source": [
    "Now we will set $w_1 = 1$, and see what we get for $pi_H$"
   ]
  },
  {
   "cell_type": "code",
   "execution_count": 10,
   "metadata": {
    "collapsed": false
   },
   "outputs": [
    {
     "data": {
      "text/html": [
       "<html><script type=\"math/tex; mode=display\">\\newcommand{\\Bold}[1]{\\mathbf{#1}}-\\frac{w_{2} - 2}{w_{2} + 1}</script></html>"
      ],
      "text/latex": [
       "\\begin{math}\n",
       "\\newcommand{\\Bold}[1]{\\mathbf{#1}}-\\frac{w_{2} - 2}{w_{2} + 1}\n",
       "\\end{math}"
      ],
      "text/plain": [
       "-(w_2 - 2)/(w_2 + 1)"
      ]
     },
     "execution_count": 10,
     "metadata": {
     },
     "output_type": "execute_result"
    }
   ],
   "source": [
    "gamma1FixW1 = gamma1.subs(w_1=1)\n",
    "show(gamma1.subs(w_1=1))"
   ]
  },
  {
   "cell_type": "markdown",
   "metadata": {
    "collapsed": false
   },
   "source": [
    "Now we implement the strategy rule, $\\pi_H$ as a piecewise function, and we plot it from varying $w_2$ from 0 to 2. "
   ]
  },
  {
   "cell_type": "code",
   "execution_count": 11,
   "metadata": {
    "collapsed": false
   },
   "outputs": [
   ],
   "source": [
    "f = piecewise([[(-infinity, 0.5),1],[(0.5, 1.5), gamma1FixW1],[(1.5,infinity),0]])"
   ]
  },
  {
   "cell_type": "code",
   "execution_count": 12,
   "metadata": {
    "collapsed": false
   },
   "outputs": [
    {
     "data": {
      "image/png": "[encoded data removed]",
      "text/plain": [
       "Graphics object consisting of 1 graphics primitive"
      ]
     },
     "execution_count": 12,
     "metadata": {
     },
     "output_type": "execute_result"
    }
   ],
   "source": [
    "plot(f,(w_2,0,2),axes_labels=['$w_2$','$pi_H$'],title= r'$pi_H$ values by varying $w_2$ values (assuming  $\\gamma = 1$ and $w_1 = 1$)')"
   ]
  },
  {
   "cell_type": "markdown",
   "metadata": {
    "collapsed": false
   },
   "source": [
    "## Fixing $\\gamma$ to 0.5 to see changes in $w_1$ and $w_2$ for $\\pi_L$"
   ]
  },
  {
   "cell_type": "markdown",
   "metadata": {
    "collapsed": false
   },
   "source": [
    "Now we want to see how $\\pi_L$ changes as $w_2$ and $w_1$ changes. We will use $\\gamma = 0.5$, since $\\gamma = 1$ does not really make sense here. Since it would mean there are no low types at all, so $\\pi_L$ would be irrelevant. "
   ]
  },
  {
   "cell_type": "code",
   "execution_count": 13,
   "metadata": {
    "collapsed": false
   },
   "outputs": [
    {
     "data": {
      "text/html": [
       "<html><script type=\"math/tex; mode=display\">\\newcommand{\\Bold}[1]{\\mathbf{#1}}-\\frac{2.00000000000000 \\, {\\left(2 \\, w_{1} - 2.50000000000000 \\, w_{2}\\right)}}{w_{1} + w_{2}}</script></html>"
      ],
      "text/latex": [
       "\\begin{math}\n",
       "\\newcommand{\\Bold}[1]{\\mathbf{#1}}-\\frac{2.00000000000000 \\, {\\left(2 \\, w_{1} - 2.50000000000000 \\, w_{2}\\right)}}{w_{1} + w_{2}}\n",
       "\\end{math}"
      ],
      "text/plain": [
       "-2.00000000000000*(2*w_1 - 2.50000000000000*w_2)/(w_1 + w_2)"
      ]
     },
     "execution_count": 13,
     "metadata": {
     },
     "output_type": "execute_result"
    }
   ],
   "source": [
    "gamma1L = piL.subs(gamma=0.5)\n",
    "show(piL.subs(gamma=0.5))"
   ]
  },
  {
   "cell_type": "markdown",
   "metadata": {
    "collapsed": false
   },
   "source": [
    "If $w1=w2*2$"
   ]
  },
  {
   "cell_type": "code",
   "execution_count": 14,
   "metadata": {
    "collapsed": false
   },
   "outputs": [
    {
     "data": {
      "text/plain": [
       "-1.00000000000000"
      ]
     },
     "execution_count": 14,
     "metadata": {
     },
     "output_type": "execute_result"
    }
   ],
   "source": [
    "gamma1L.subs(w_1=w_2*2)"
   ]
  },
  {
   "cell_type": "markdown",
   "metadata": {
    "collapsed": false
   },
   "source": [
    "If $w2=w1*2$"
   ]
  },
  {
   "cell_type": "code",
   "execution_count": 15,
   "metadata": {
    "collapsed": false
   },
   "outputs": [
    {
     "data": {
      "text/plain": [
       "2.00000000000000"
      ]
     },
     "execution_count": 15,
     "metadata": {
     },
     "output_type": "execute_result"
    }
   ],
   "source": [
    "gamma1L.subs(w_2=w_1*2)"
   ]
  },
  {
   "cell_type": "code",
   "execution_count": 16,
   "metadata": {
    "collapsed": false
   },
   "outputs": [
    {
     "data": {
      "text/html": [
       "<html><script type=\"math/tex; mode=display\">\\newcommand{\\Bold}[1]{\\mathbf{#1}}-\\frac{2.00000000000000 \\, {\\left(-2.50000000000000 \\, w_{2} + 2\\right)}}{w_{2} + 1}</script></html>"
      ],
      "text/latex": [
       "\\begin{math}\n",
       "\\newcommand{\\Bold}[1]{\\mathbf{#1}}-\\frac{2.00000000000000 \\, {\\left(-2.50000000000000 \\, w_{2} + 2\\right)}}{w_{2} + 1}\n",
       "\\end{math}"
      ],
      "text/plain": [
       "-2.00000000000000*(-2.50000000000000*w_2 + 2)/(w_2 + 1)"
      ]
     },
     "execution_count": 16,
     "metadata": {
     },
     "output_type": "execute_result"
    }
   ],
   "source": [
    "gamma1LFixW1 = gamma1L.subs(w_1=1)\n",
    "show(gamma1L.subs(w_1=1))"
   ]
  },
  {
   "cell_type": "markdown",
   "metadata": {
    "collapsed": false
   },
   "source": [
    "Here I implement a piecewise function, I plot it by varying $w_2$. "
   ]
  },
  {
   "cell_type": "code",
   "execution_count": 17,
   "metadata": {
    "collapsed": false
   },
   "outputs": [
   ],
   "source": [
    "condition1 = (0.5)*(2-w_2)/(1+w_2)-0.5*(1-w_2)\n",
    "condition2 = (0.5)*(2*w_2-1)/(1+w_2)-0.5*(w_2-1)"
   ]
  },
  {
   "cell_type": "code",
   "execution_count": 18,
   "metadata": {
    "collapsed": false
   },
   "outputs": [
   ],
   "source": [
    "g = piecewise([[(-infinity, 0.75),condition1],[(0.75,1),(gamma1LFixW1)],[(1,infinity),condition2]])"
   ]
  },
  {
   "cell_type": "code",
   "execution_count": 23,
   "metadata": {
    "collapsed": false
   },
   "outputs": [
    {
     "data": {
      "image/png": "[encoded data removed]",
      "text/plain": [
       "Graphics object consisting of 1 graphics primitive"
      ]
     },
     "execution_count": 23,
     "metadata": {
     },
     "output_type": "execute_result"
    }
   ],
   "source": [
    "plot(g,(w_2,0,2),axes_labels=['$w_2$','$pi_L$'],title= r'$\\pi_L$ values by varying $w_2$ values (assuming  $\\gamma = 0.5$ and $w_1 = 1$)')"
   ]
  },
  {
   "cell_type": "markdown",
   "metadata": {
    "collapsed": false
   },
   "source": [
    "# \"Calculate solutions numerically for different values of λ and show that if the worker types are equally productive and the two firms’ revenues are the same, there will be no sub-game perfect equilibrium in which firms offer the same wage.\""
   ]
  },
  {
   "cell_type": "markdown",
   "metadata": {
    "collapsed": false
   },
   "source": [
    "## If wages are equal then lambda does not factor into $pi_H$ nor $pi_L$"
   ]
  },
  {
   "cell_type": "code",
   "execution_count": 28,
   "metadata": {
    "collapsed": false
   },
   "outputs": [
    {
     "data": {
      "text/html": [
       "<html><script type=\"math/tex; mode=display\">\\newcommand{\\Bold}[1]{\\mathbf{#1}}\\frac{1}{2}</script></html>"
      ],
      "text/latex": [
       "\\begin{math}\n",
       "\\newcommand{\\Bold}[1]{\\mathbf{#1}}\\frac{1}{2}\n",
       "\\end{math}"
      ],
      "text/plain": [
       "1/2"
      ]
     },
     "execution_count": 28,
     "metadata": {
     },
     "output_type": "execute_result"
    }
   ],
   "source": [
    "wage1 = piHRHS.subs(w_1=50,w_2=50)\n",
    "show(wage1)"
   ]
  },
  {
   "cell_type": "code",
   "execution_count": 29,
   "metadata": {
    "collapsed": false
   },
   "outputs": [
    {
     "data": {
      "text/html": [
       "<html><script type=\"math/tex; mode=display\">\\newcommand{\\Bold}[1]{\\mathbf{#1}}\\frac{1}{2}</script></html>"
      ],
      "text/latex": [
       "\\begin{math}\n",
       "\\newcommand{\\Bold}[1]{\\mathbf{#1}}\\frac{1}{2}\n",
       "\\end{math}"
      ],
      "text/plain": [
       "1/2"
      ]
     },
     "execution_count": 29,
     "metadata": {
     },
     "output_type": "execute_result"
    }
   ],
   "source": [
    "wage1L = piL.subs(w_1=50,w_2=50)\n",
    "show(wage1L)"
   ]
  },
  {
   "cell_type": "markdown",
   "metadata": {
    "collapsed": false
   },
   "source": [
    "If we want to find a symmetric equilibrium for when high type workers are more productive than low type workers, but both firms have the same revenue, from the above we see that $\\lambda$ does not matter. $\\pi_H$ and $\\pi_L$ will be $\\frac{1}{2}$ no matter what the value of $\\lambda$ is."
   ]
  },
  {
   "cell_type": "code",
   "execution_count": 0,
   "metadata": {
    "collapsed": false
   },
   "outputs": [
   ],
   "source": [
   ]
  }
 ],
 "metadata": {
  "kernelspec": {
   "display_name": "SageMath 9.2",
   "language": "sagemath",
   "metadata": {
    "cocalc": {
     "description": "Open-source mathematical software system",
     "priority": 10,
     "url": "https://www.sagemath.org/"
    }
   },
   "name": "sage-9.2",
   "resource_dir": "/ext/jupyter/kernels/sage-9.2"
  },
  "language_info": {
   "codemirror_mode": {
    "name": "ipython",
    "version": 3
   },
   "file_extension": ".py",
   "mimetype": "text/x-python",
   "name": "python",
   "nbconvert_exporter": "python",
   "pygments_lexer": "ipython3",
   "version": "3.8.5"
  }
 },
 "nbformat": 4,
 "nbformat_minor": 4
}